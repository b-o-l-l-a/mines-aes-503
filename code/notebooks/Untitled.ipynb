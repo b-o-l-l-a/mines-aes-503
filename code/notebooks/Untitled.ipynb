{
 "cells": [
  {
   "cell_type": "code",
   "execution_count": 1,
   "id": "olympic-radical",
   "metadata": {},
   "outputs": [],
   "source": [
    "import os\n",
    "import pandas as pd\n",
    "import matplotlib.pyplot as plt\n",
    "import seaborn as sns\n",
    "\n",
    "BASE_DIR = os.path.dirname(os.path.abspath(''))\n",
    "DATA_DIR = os.path.join(BASE_DIR, 'data')\n",
    "DATA_DIR_RAW = os.path.join(DATA_DIR, 'raw')\n",
    "DATA_DIR_INTERIM = os.path.join(DATA_DIR, 'interim')\n",
    "DATA_DIR_FINAL = os.path.join(DATA_DIR, 'final')\n",
    "\n",
    "INPUT_CSV_FILENAME = '2019_Net_Generation_PSCO.csv'"
   ]
  },
  {
   "cell_type": "code",
   "execution_count": 2,
   "id": "adaptive-cowboy",
   "metadata": {},
   "outputs": [],
   "source": [
    "input_gen_df = pd.read_csv(os.path.join(DATA_DIR_RAW, INPUT_CSV_FILENAME))\n",
    "\n",
    "# read_csv grabs a few rows below last row w actual data. drop these rows\n",
    "input_gen_df = input_gen_df.dropna(how='all')\n",
    "interim_gen_df = input_gen_df.copy()"
   ]
  },
  {
   "cell_type": "code",
   "execution_count": 3,
   "id": "green-paste",
   "metadata": {},
   "outputs": [
    {
     "data": {
      "text/html": [
       "<div>\n",
       "<style scoped>\n",
       "    .dataframe tbody tr th:only-of-type {\n",
       "        vertical-align: middle;\n",
       "    }\n",
       "\n",
       "    .dataframe tbody tr th {\n",
       "        vertical-align: top;\n",
       "    }\n",
       "\n",
       "    .dataframe thead th {\n",
       "        text-align: right;\n",
       "    }\n",
       "</style>\n",
       "<table border=\"1\" class=\"dataframe\">\n",
       "  <thead>\n",
       "    <tr style=\"text-align: right;\">\n",
       "      <th></th>\n",
       "      <th>Date</th>\n",
       "      <th>Load</th>\n",
       "      <th>Coal</th>\n",
       "      <th>Gas</th>\n",
       "      <th>Hydro</th>\n",
       "      <th>Wind</th>\n",
       "      <th>Solar</th>\n",
       "      <th>total_gen</th>\n",
       "      <th>load_equals_gen</th>\n",
       "    </tr>\n",
       "  </thead>\n",
       "  <tbody>\n",
       "    <tr>\n",
       "      <th>2402</th>\n",
       "      <td>4/11/19 2:00</td>\n",
       "      <td>2641.0</td>\n",
       "      <td>745.0</td>\n",
       "      <td>421.0</td>\n",
       "      <td>0.0</td>\n",
       "      <td>1476.0</td>\n",
       "      <td>0.0</td>\n",
       "      <td>2642.0</td>\n",
       "      <td>False</td>\n",
       "    </tr>\n",
       "    <tr>\n",
       "      <th>2408</th>\n",
       "      <td>4/11/19 8:00</td>\n",
       "      <td>3367.0</td>\n",
       "      <td>785.0</td>\n",
       "      <td>659.0</td>\n",
       "      <td>0.0</td>\n",
       "      <td>1900.0</td>\n",
       "      <td>24.0</td>\n",
       "      <td>3368.0</td>\n",
       "      <td>False</td>\n",
       "    </tr>\n",
       "    <tr>\n",
       "      <th>2409</th>\n",
       "      <td>4/11/19 9:00</td>\n",
       "      <td>3435.0</td>\n",
       "      <td>792.0</td>\n",
       "      <td>557.0</td>\n",
       "      <td>0.0</td>\n",
       "      <td>1929.0</td>\n",
       "      <td>158.0</td>\n",
       "      <td>3436.0</td>\n",
       "      <td>False</td>\n",
       "    </tr>\n",
       "    <tr>\n",
       "      <th>2423</th>\n",
       "      <td>4/11/19 23:00</td>\n",
       "      <td>2909.0</td>\n",
       "      <td>978.0</td>\n",
       "      <td>927.0</td>\n",
       "      <td>3.0</td>\n",
       "      <td>1000.0</td>\n",
       "      <td>0.0</td>\n",
       "      <td>2908.0</td>\n",
       "      <td>False</td>\n",
       "    </tr>\n",
       "  </tbody>\n",
       "</table>\n",
       "</div>"
      ],
      "text/plain": [
       "               Date    Load   Coal    Gas  Hydro    Wind  Solar  total_gen  \\\n",
       "2402   4/11/19 2:00  2641.0  745.0  421.0    0.0  1476.0    0.0     2642.0   \n",
       "2408   4/11/19 8:00  3367.0  785.0  659.0    0.0  1900.0   24.0     3368.0   \n",
       "2409   4/11/19 9:00  3435.0  792.0  557.0    0.0  1929.0  158.0     3436.0   \n",
       "2423  4/11/19 23:00  2909.0  978.0  927.0    3.0  1000.0    0.0     2908.0   \n",
       "\n",
       "      load_equals_gen  \n",
       "2402            False  \n",
       "2408            False  \n",
       "2409            False  \n",
       "2423            False  "
      ]
     },
     "execution_count": 3,
     "metadata": {},
     "output_type": "execute_result"
    }
   ],
   "source": [
    "DATETIME_COLNAME = 'Date'\n",
    "LOAD_COLNAME = 'Load'\n",
    "COAL_COLNAME = 'Coal'\n",
    "NG_COLNAME = 'Gas'\n",
    "HYDRO_COLNAME = 'Hydro'\n",
    "WIND_COLNAME = 'Wind'\n",
    "SOLAR_COLNAME = 'Solar'\n",
    "\n",
    "# augmented cols\n",
    "GEN_COLNAME = 'total_gen'\n",
    "LOAD_EQ_GEN_COLNAME = 'load_equals_gen'\n",
    "\n",
    "interim_gen_df[GEN_COLNAME] = interim_gen_df.apply(\n",
    "    lambda x: \n",
    "        x[COAL_COLNAME] \n",
    "        + x[NG_COLNAME]\n",
    "        + x[HYDRO_COLNAME]\n",
    "        + x[WIND_COLNAME]\n",
    "        + x[SOLAR_COLNAME]\n",
    "    , axis = 1\n",
    ")\n",
    "\n",
    "interim_gen_df[LOAD_EQ_GEN_COLNAME] = interim_gen_df.apply(\n",
    "    lambda x:\n",
    "        True if x[LOAD_COLNAME] == x[GEN_COLNAME] else False\n",
    "    , axis = 1\n",
    ")\n",
    "\n",
    "# seems like rounding errors, altho all occurred on same day\n",
    "interim_gen_df[interim_gen_df[LOAD_EQ_GEN_COLNAME] == False]"
   ]
  },
  {
   "cell_type": "code",
   "execution_count": 4,
   "id": "recognized-storage",
   "metadata": {},
   "outputs": [],
   "source": [
    "TOTAL_VRE_COLNAME = 'vre'\n",
    "interim_gen_df[TOTAL_VRE_COLNAME] = interim_gen_df.apply(\n",
    "    lambda x: x[SOLAR_COLNAME] + x[WIND_COLNAME],\n",
    "    axis = 1\n",
    ")\n"
   ]
  },
  {
   "cell_type": "markdown",
   "id": "conceptual-twelve",
   "metadata": {},
   "source": [
    "### Question 1\n",
    "* Find total, max, min of Load\n",
    "* Find total, %, max, min, and capacity factor for each gen source\n",
    "* Find total, %, max, min, and capacity factor for VRE (wind + solar)"
   ]
  },
  {
   "cell_type": "code",
   "execution_count": 5,
   "id": "combined-estonia",
   "metadata": {},
   "outputs": [
    {
     "name": "stdout",
     "output_type": "stream",
     "text": [
      "Total: 37,316,375\n",
      "Max: 7,473\n",
      "Min: 2,144\n"
     ]
    }
   ],
   "source": [
    "def format_large_num(value):\n",
    "    return f'{value:,}'\n",
    "\n",
    "print(\"Total: {}\".format(format_large_num(int(interim_gen_df[LOAD_COLNAME].sum()))))\n",
    "print(\"Max: {}\".format(format_large_num(int(interim_gen_df[LOAD_COLNAME].max()))))\n",
    "print(\"Min: {}\".format(format_large_num(int(interim_gen_df[LOAD_COLNAME].min()))))"
   ]
  },
  {
   "cell_type": "code",
   "execution_count": 6,
   "id": "sitting-prefix",
   "metadata": {},
   "outputs": [
    {
     "name": "stdout",
     "output_type": "stream",
     "text": [
      "****Coal\n",
      " total: 17,976,864.0\n",
      " perc: 0.4817419698456777\n",
      " max: 3235.0\n",
      " min: 581.0\n",
      "****Gas\n",
      " total: 10,188,766.0\n",
      " perc: 0.2730373998010257\n",
      " max: 4166.0\n",
      " min: 114.0\n",
      "****Hydro\n",
      " total: 308,978.0\n",
      " perc: 0.008279957525349126\n",
      " max: 829.0\n",
      " min: 0.0\n",
      "****Wind\n",
      " total: 7,914,649.0\n",
      " perc: 0.2120958694406946\n",
      " max: 3068.0\n",
      " min: 0.0\n",
      "****Solar\n",
      " total: 927,120.0\n",
      " perc: 0.024844856983026888\n",
      " max: 404.0\n",
      " min: 0.0\n",
      "****vre\n",
      " total: 8,841,769.0\n",
      " perc: 0.2369407264237215\n",
      " max: 3069.0\n",
      " min: 0.0\n"
     ]
    }
   ],
   "source": [
    "df_sums = interim_gen_df.sum()\n",
    "\n",
    "for col in [COAL_COLNAME, NG_COLNAME, HYDRO_COLNAME, WIND_COLNAME, SOLAR_COLNAME, TOTAL_VRE_COLNAME]:\n",
    "    total_mwh = df_sums[col]\n",
    "    perc_total = float(df_sums[col]) / float(df_sums[LOAD_COLNAME])\n",
    "    max_mw = interim_gen_df[col].max()\n",
    "    min_mw = interim_gen_df[col].min()\n",
    "    \n",
    "    print(\"****{}\".format(col))\n",
    "    print(\" total: {}\".format(format_large_num(total_mwh)))\n",
    "    print(\" perc: {}\".format(perc_total))\n",
    "    print(\" max: {}\".format(max_mw))\n",
    "    print(\" min: {}\".format(min_mw))"
   ]
  },
  {
   "cell_type": "code",
   "execution_count": 7,
   "id": "bibliographic-insight",
   "metadata": {},
   "outputs": [],
   "source": [
    "wind_perc = interim_gen_df[WIND_COLNAME].sum() / interim_gen_df[LOAD_COLNAME].sum()\n",
    "pv_perc = interim_gen_df[SOLAR_COLNAME].sum() / interim_gen_df[LOAD_COLNAME].sum()\n",
    "\n",
    "vre_capacity_factor_denominator = \\\n",
    "    wind_perc + pv_perc\n",
    "    \n",
    "perc_vre_wind = wind_perc / vre_capacity_factor_denominator\n",
    "perc_vre_solar = pv_perc / vre_capacity_factor_denominator\n",
    "\n",
    "# from https://www.eia.gov/electricity/monthly/epm_table_grapher.php?t=epmt_6_07_b\n",
    "WIND_CAPACITY_FACTOR = .343 \n",
    "SOLAR_CAPACITY_FACTOR = .243\n",
    "\n",
    "vre_capacity_factor = \\\n",
    "    (WIND_CAPACITY_FACTOR * perc_vre_wind) \\\n",
    "    + (SOLAR_CAPACITY_FACTOR * perc_vre_solar)"
   ]
  },
  {
   "cell_type": "code",
   "execution_count": 8,
   "id": "dramatic-continuity",
   "metadata": {},
   "outputs": [
    {
     "data": {
      "text/plain": [
       "0.33251431551763005"
      ]
     },
     "execution_count": 8,
     "metadata": {},
     "output_type": "execute_result"
    }
   ],
   "source": [
    "vre_capacity_factor"
   ]
  },
  {
   "cell_type": "markdown",
   "id": "increasing-stomach",
   "metadata": {},
   "source": [
    "### Question 2\n",
    "* Create an additional column in your data file and calculate % VRE of the total load. Where % VRE = VRE (MW) / Load (MW) for each hour."
   ]
  },
  {
   "cell_type": "code",
   "execution_count": 9,
   "id": "cutting-douglas",
   "metadata": {},
   "outputs": [],
   "source": [
    "PERC_VRE_COLNAME = 'perc_vre'\n",
    "interim_gen_df[PERC_VRE_COLNAME] = interim_gen_df.apply(\n",
    "    lambda x: (x[SOLAR_COLNAME] + x[WIND_COLNAME]) / x[LOAD_COLNAME],\n",
    "    axis = 1 # apply function across rows (axis = 1) instead of columns (axis = 0)\n",
    ")"
   ]
  },
  {
   "cell_type": "code",
   "execution_count": 10,
   "id": "bibliographic-yemen",
   "metadata": {},
   "outputs": [
    {
     "data": {
      "text/html": [
       "<div>\n",
       "<style scoped>\n",
       "    .dataframe tbody tr th:only-of-type {\n",
       "        vertical-align: middle;\n",
       "    }\n",
       "\n",
       "    .dataframe tbody tr th {\n",
       "        vertical-align: top;\n",
       "    }\n",
       "\n",
       "    .dataframe thead th {\n",
       "        text-align: right;\n",
       "    }\n",
       "</style>\n",
       "<table border=\"1\" class=\"dataframe\">\n",
       "  <thead>\n",
       "    <tr style=\"text-align: right;\">\n",
       "      <th></th>\n",
       "      <th>Date</th>\n",
       "      <th>Load</th>\n",
       "      <th>Solar</th>\n",
       "      <th>Wind</th>\n",
       "      <th>vre</th>\n",
       "      <th>perc_vre</th>\n",
       "    </tr>\n",
       "  </thead>\n",
       "  <tbody>\n",
       "    <tr>\n",
       "      <th>0</th>\n",
       "      <td>1/1/19 0:00</td>\n",
       "      <td>4234.0</td>\n",
       "      <td>0.0</td>\n",
       "      <td>1429.0</td>\n",
       "      <td>1429.0</td>\n",
       "      <td>0.337506</td>\n",
       "    </tr>\n",
       "    <tr>\n",
       "      <th>1</th>\n",
       "      <td>1/1/19 1:00</td>\n",
       "      <td>3983.0</td>\n",
       "      <td>0.0</td>\n",
       "      <td>1062.0</td>\n",
       "      <td>1062.0</td>\n",
       "      <td>0.266633</td>\n",
       "    </tr>\n",
       "    <tr>\n",
       "      <th>2</th>\n",
       "      <td>1/1/19 2:00</td>\n",
       "      <td>3844.0</td>\n",
       "      <td>0.0</td>\n",
       "      <td>788.0</td>\n",
       "      <td>788.0</td>\n",
       "      <td>0.204995</td>\n",
       "    </tr>\n",
       "    <tr>\n",
       "      <th>3</th>\n",
       "      <td>1/1/19 3:00</td>\n",
       "      <td>3753.0</td>\n",
       "      <td>0.0</td>\n",
       "      <td>641.0</td>\n",
       "      <td>641.0</td>\n",
       "      <td>0.170797</td>\n",
       "    </tr>\n",
       "    <tr>\n",
       "      <th>4</th>\n",
       "      <td>1/1/19 4:00</td>\n",
       "      <td>3725.0</td>\n",
       "      <td>0.0</td>\n",
       "      <td>438.0</td>\n",
       "      <td>438.0</td>\n",
       "      <td>0.117584</td>\n",
       "    </tr>\n",
       "    <tr>\n",
       "      <th>...</th>\n",
       "      <td>...</td>\n",
       "      <td>...</td>\n",
       "      <td>...</td>\n",
       "      <td>...</td>\n",
       "      <td>...</td>\n",
       "      <td>...</td>\n",
       "    </tr>\n",
       "    <tr>\n",
       "      <th>8755</th>\n",
       "      <td>12/31/19 19:00</td>\n",
       "      <td>6070.0</td>\n",
       "      <td>0.0</td>\n",
       "      <td>1700.0</td>\n",
       "      <td>1700.0</td>\n",
       "      <td>0.280066</td>\n",
       "    </tr>\n",
       "    <tr>\n",
       "      <th>8756</th>\n",
       "      <td>12/31/19 20:00</td>\n",
       "      <td>5921.0</td>\n",
       "      <td>0.0</td>\n",
       "      <td>2063.0</td>\n",
       "      <td>2063.0</td>\n",
       "      <td>0.348421</td>\n",
       "    </tr>\n",
       "    <tr>\n",
       "      <th>8757</th>\n",
       "      <td>12/31/19 21:00</td>\n",
       "      <td>5627.0</td>\n",
       "      <td>0.0</td>\n",
       "      <td>2050.0</td>\n",
       "      <td>2050.0</td>\n",
       "      <td>0.364315</td>\n",
       "    </tr>\n",
       "    <tr>\n",
       "      <th>8758</th>\n",
       "      <td>12/31/19 22:00</td>\n",
       "      <td>5460.0</td>\n",
       "      <td>0.0</td>\n",
       "      <td>1748.0</td>\n",
       "      <td>1748.0</td>\n",
       "      <td>0.320147</td>\n",
       "    </tr>\n",
       "    <tr>\n",
       "      <th>8759</th>\n",
       "      <td>12/31/19 23:00</td>\n",
       "      <td>5257.0</td>\n",
       "      <td>0.0</td>\n",
       "      <td>1490.0</td>\n",
       "      <td>1490.0</td>\n",
       "      <td>0.283432</td>\n",
       "    </tr>\n",
       "  </tbody>\n",
       "</table>\n",
       "<p>8760 rows × 6 columns</p>\n",
       "</div>"
      ],
      "text/plain": [
       "                Date    Load  Solar    Wind     vre  perc_vre\n",
       "0        1/1/19 0:00  4234.0    0.0  1429.0  1429.0  0.337506\n",
       "1        1/1/19 1:00  3983.0    0.0  1062.0  1062.0  0.266633\n",
       "2        1/1/19 2:00  3844.0    0.0   788.0   788.0  0.204995\n",
       "3        1/1/19 3:00  3753.0    0.0   641.0   641.0  0.170797\n",
       "4        1/1/19 4:00  3725.0    0.0   438.0   438.0  0.117584\n",
       "...              ...     ...    ...     ...     ...       ...\n",
       "8755  12/31/19 19:00  6070.0    0.0  1700.0  1700.0  0.280066\n",
       "8756  12/31/19 20:00  5921.0    0.0  2063.0  2063.0  0.348421\n",
       "8757  12/31/19 21:00  5627.0    0.0  2050.0  2050.0  0.364315\n",
       "8758  12/31/19 22:00  5460.0    0.0  1748.0  1748.0  0.320147\n",
       "8759  12/31/19 23:00  5257.0    0.0  1490.0  1490.0  0.283432\n",
       "\n",
       "[8760 rows x 6 columns]"
      ]
     },
     "execution_count": 10,
     "metadata": {},
     "output_type": "execute_result"
    }
   ],
   "source": [
    "interim_gen_df[[DATETIME_COLNAME, LOAD_COLNAME, SOLAR_COLNAME, WIND_COLNAME, TOTAL_VRE_COLNAME, PERC_VRE_COLNAME]] "
   ]
  },
  {
   "cell_type": "markdown",
   "id": "stretch-recipient",
   "metadata": {},
   "source": [
    "### Question 3: \n",
    "Graph the % VRE for every hour from January to December in chronological order."
   ]
  },
  {
   "cell_type": "code",
   "execution_count": 54,
   "id": "alpine-brief",
   "metadata": {},
   "outputs": [
    {
     "data": {
      "image/png": "[encoded data removed]",
      "text/plain": [
       "<Figure size 1296x432 with 1 Axes>"
      ]
     },
     "metadata": {},
     "output_type": "display_data"
    }
   ],
   "source": [
    "interim_gen_df[DATETIME_COLNAME] = pd.to_datetime(interim_gen_df[DATETIME_COLNAME])\n",
    "\n",
    "sns.set(rc={'figure.figsize':(18, 6)})\n",
    "plt.rc('legend',fontsize=16) \n",
    "\n",
    "fig = plt.figure()\n",
    "line_chart = fig.add_subplot(1, 1, 1) \n",
    "plt.plot(DATETIME_COLNAME, PERC_VRE_COLNAME, label=\"% VRE\", data=interim_gen_df, linewidth=5,color=\"black\")\n",
    "plt.ylabel(\"% VRE\", family='monospace' ,fontsize=\"xx-large\")\n",
    "plt.xlabel(\"Date\", family='serif', fontsize=\"xx-large\")\n",
    "plt.xticks(fontsize=13, family='monospace', rotation = 15 ) # Rotate ticks. Doesn't look great, imo: rotation = 15, ha='right'\n",
    "plt.yticks(fontsize=13, family='monospace' )\n",
    "plt.ylim(ymin=0, ymax = 1)\n",
    "plt.show()"
   ]
  },
  {
   "cell_type": "markdown",
   "id": "serious-denver",
   "metadata": {},
   "source": [
    "### Question 4\n",
    "Resort the % VRE data from High to Low and plot a % VRE duration curve (similar to the load duration curve)"
   ]
  },
  {
   "cell_type": "code",
   "execution_count": 58,
   "id": "dense-camel",
   "metadata": {},
   "outputs": [
    {
     "data": {
      "image/png": "[encoded data removed]",
      "text/plain": [
       "<Figure size 1296x432 with 1 Axes>"
      ]
     },
     "metadata": {},
     "output_type": "display_data"
    }
   ],
   "source": [
    "ldc_df = interim_gen_df.sort_values(PERC_VRE_COLNAME, ascending=False).reset_index(drop=True)\n",
    "ldc_df['index'] = ldc_df.index.values\n",
    "\n",
    "fig = plt.figure()\n",
    "load_df_subplot_ax = fig.add_subplot(1, 1, 1)    \n",
    "    \n",
    "plt.plot(\n",
    "    'index', PERC_VRE_COLNAME, label=\"LDC\", data=ldc_df, linewidth=1,color=\"black\")\n",
    "#load_df_subplot_ax.xaxis.set_major_formatter(mdates.DateFormatter('%-m'))\n",
    "plt.ylabel(\"Load (MW)\", family='monospace' ,fontsize=\"xx-large\")\n",
    "plt.xlabel(\"Hour\", family='serif', fontsize=\"xx-large\")\n",
    "plt.xticks(fontsize=13, family='monospace', rotation = 15 ) # Rotate ticks. Doesn't look great, imo: rotation = 15, ha='right'\n",
    "plt.yticks(fontsize=13, family='monospace' )\n",
    "plt.ylim(ymin=0, ymax = 1)\n",
    "plt.title(\"% VRE Duration Curve\", family='serif', fontdict={\"fontweight\": \"bold\", \"size\": 20})\n",
    "plt.show()"
   ]
  },
  {
   "cell_type": "code",
   "execution_count": 56,
   "id": "perceived-grounds",
   "metadata": {},
   "outputs": [
    {
     "data": {
      "text/html": [
       "<div>\n",
       "<style scoped>\n",
       "    .dataframe tbody tr th:only-of-type {\n",
       "        vertical-align: middle;\n",
       "    }\n",
       "\n",
       "    .dataframe tbody tr th {\n",
       "        vertical-align: top;\n",
       "    }\n",
       "\n",
       "    .dataframe thead th {\n",
       "        text-align: right;\n",
       "    }\n",
       "</style>\n",
       "<table border=\"1\" class=\"dataframe\">\n",
       "  <thead>\n",
       "    <tr style=\"text-align: right;\">\n",
       "      <th></th>\n",
       "      <th>Date</th>\n",
       "      <th>Load</th>\n",
       "      <th>Coal</th>\n",
       "      <th>Gas</th>\n",
       "      <th>Hydro</th>\n",
       "      <th>Wind</th>\n",
       "      <th>Solar</th>\n",
       "      <th>total_gen</th>\n",
       "      <th>load_equals_gen</th>\n",
       "      <th>vre</th>\n",
       "      <th>perc_vre</th>\n",
       "      <th>Wind_factored</th>\n",
       "      <th>Solar_factored</th>\n",
       "      <th>vre_factored</th>\n",
       "      <th>index</th>\n",
       "    </tr>\n",
       "  </thead>\n",
       "  <tbody>\n",
       "    <tr>\n",
       "      <th>0</th>\n",
       "      <td>2019-08-20 18:00:00</td>\n",
       "      <td>7473.0</td>\n",
       "      <td>3055.0</td>\n",
       "      <td>2839.0</td>\n",
       "      <td>119.0</td>\n",
       "      <td>1260.0</td>\n",
       "      <td>200.0</td>\n",
       "      <td>7473.0</td>\n",
       "      <td>True</td>\n",
       "      <td>1460.0</td>\n",
       "      <td>0.195370</td>\n",
       "      <td>3069.093872</td>\n",
       "      <td>3699.504950</td>\n",
       "      <td>6768.598823</td>\n",
       "      <td>0</td>\n",
       "    </tr>\n",
       "    <tr>\n",
       "      <th>1</th>\n",
       "      <td>2019-08-06 18:00:00</td>\n",
       "      <td>7280.0</td>\n",
       "      <td>3097.0</td>\n",
       "      <td>3398.0</td>\n",
       "      <td>108.0</td>\n",
       "      <td>497.0</td>\n",
       "      <td>180.0</td>\n",
       "      <td>7280.0</td>\n",
       "      <td>True</td>\n",
       "      <td>677.0</td>\n",
       "      <td>0.092995</td>\n",
       "      <td>1210.587027</td>\n",
       "      <td>3329.554455</td>\n",
       "      <td>4540.141483</td>\n",
       "      <td>1</td>\n",
       "    </tr>\n",
       "    <tr>\n",
       "      <th>2</th>\n",
       "      <td>2019-08-20 17:00:00</td>\n",
       "      <td>7199.0</td>\n",
       "      <td>3062.0</td>\n",
       "      <td>2725.0</td>\n",
       "      <td>130.0</td>\n",
       "      <td>958.0</td>\n",
       "      <td>324.0</td>\n",
       "      <td>7199.0</td>\n",
       "      <td>True</td>\n",
       "      <td>1282.0</td>\n",
       "      <td>0.178080</td>\n",
       "      <td>2333.485658</td>\n",
       "      <td>5993.198020</td>\n",
       "      <td>8326.683678</td>\n",
       "      <td>2</td>\n",
       "    </tr>\n",
       "    <tr>\n",
       "      <th>3</th>\n",
       "      <td>2019-08-06 17:00:00</td>\n",
       "      <td>7196.0</td>\n",
       "      <td>3079.0</td>\n",
       "      <td>3520.0</td>\n",
       "      <td>98.0</td>\n",
       "      <td>248.0</td>\n",
       "      <td>251.0</td>\n",
       "      <td>7196.0</td>\n",
       "      <td>True</td>\n",
       "      <td>499.0</td>\n",
       "      <td>0.069344</td>\n",
       "      <td>604.075619</td>\n",
       "      <td>4642.878713</td>\n",
       "      <td>5246.954332</td>\n",
       "      <td>3</td>\n",
       "    </tr>\n",
       "    <tr>\n",
       "      <th>4</th>\n",
       "      <td>2019-08-06 19:00:00</td>\n",
       "      <td>7131.0</td>\n",
       "      <td>3119.0</td>\n",
       "      <td>2813.0</td>\n",
       "      <td>105.0</td>\n",
       "      <td>1016.0</td>\n",
       "      <td>78.0</td>\n",
       "      <td>7131.0</td>\n",
       "      <td>True</td>\n",
       "      <td>1094.0</td>\n",
       "      <td>0.153415</td>\n",
       "      <td>2474.761408</td>\n",
       "      <td>1442.806931</td>\n",
       "      <td>3917.568339</td>\n",
       "      <td>4</td>\n",
       "    </tr>\n",
       "    <tr>\n",
       "      <th>...</th>\n",
       "      <td>...</td>\n",
       "      <td>...</td>\n",
       "      <td>...</td>\n",
       "      <td>...</td>\n",
       "      <td>...</td>\n",
       "      <td>...</td>\n",
       "      <td>...</td>\n",
       "      <td>...</td>\n",
       "      <td>...</td>\n",
       "      <td>...</td>\n",
       "      <td>...</td>\n",
       "      <td>...</td>\n",
       "      <td>...</td>\n",
       "      <td>...</td>\n",
       "      <td>...</td>\n",
       "    </tr>\n",
       "    <tr>\n",
       "      <th>8755</th>\n",
       "      <td>2019-04-06 16:00:00</td>\n",
       "      <td>2273.0</td>\n",
       "      <td>1364.0</td>\n",
       "      <td>479.0</td>\n",
       "      <td>83.0</td>\n",
       "      <td>133.0</td>\n",
       "      <td>214.0</td>\n",
       "      <td>2273.0</td>\n",
       "      <td>True</td>\n",
       "      <td>347.0</td>\n",
       "      <td>0.152662</td>\n",
       "      <td>323.959909</td>\n",
       "      <td>214.000000</td>\n",
       "      <td>537.959909</td>\n",
       "      <td>8755</td>\n",
       "    </tr>\n",
       "    <tr>\n",
       "      <th>8756</th>\n",
       "      <td>2019-04-08 02:00:00</td>\n",
       "      <td>2267.0</td>\n",
       "      <td>1122.0</td>\n",
       "      <td>253.0</td>\n",
       "      <td>0.0</td>\n",
       "      <td>892.0</td>\n",
       "      <td>0.0</td>\n",
       "      <td>2267.0</td>\n",
       "      <td>True</td>\n",
       "      <td>892.0</td>\n",
       "      <td>0.393472</td>\n",
       "      <td>2172.723598</td>\n",
       "      <td>0.000000</td>\n",
       "      <td>2172.723598</td>\n",
       "      <td>8756</td>\n",
       "    </tr>\n",
       "    <tr>\n",
       "      <th>8757</th>\n",
       "      <td>2019-05-14 04:00:00</td>\n",
       "      <td>2257.0</td>\n",
       "      <td>1690.0</td>\n",
       "      <td>472.0</td>\n",
       "      <td>0.0</td>\n",
       "      <td>95.0</td>\n",
       "      <td>0.0</td>\n",
       "      <td>2257.0</td>\n",
       "      <td>True</td>\n",
       "      <td>95.0</td>\n",
       "      <td>0.042091</td>\n",
       "      <td>231.399935</td>\n",
       "      <td>0.000000</td>\n",
       "      <td>231.399935</td>\n",
       "      <td>8757</td>\n",
       "    </tr>\n",
       "    <tr>\n",
       "      <th>8758</th>\n",
       "      <td>2019-04-08 03:00:00</td>\n",
       "      <td>2160.0</td>\n",
       "      <td>1125.0</td>\n",
       "      <td>249.0</td>\n",
       "      <td>0.0</td>\n",
       "      <td>785.0</td>\n",
       "      <td>1.0</td>\n",
       "      <td>2160.0</td>\n",
       "      <td>True</td>\n",
       "      <td>786.0</td>\n",
       "      <td>0.363889</td>\n",
       "      <td>1912.094198</td>\n",
       "      <td>18.497525</td>\n",
       "      <td>1930.591723</td>\n",
       "      <td>8758</td>\n",
       "    </tr>\n",
       "    <tr>\n",
       "      <th>8759</th>\n",
       "      <td>2019-04-08 04:00:00</td>\n",
       "      <td>2144.0</td>\n",
       "      <td>1125.0</td>\n",
       "      <td>253.0</td>\n",
       "      <td>0.0</td>\n",
       "      <td>766.0</td>\n",
       "      <td>0.0</td>\n",
       "      <td>2144.0</td>\n",
       "      <td>True</td>\n",
       "      <td>766.0</td>\n",
       "      <td>0.357276</td>\n",
       "      <td>1865.814211</td>\n",
       "      <td>0.000000</td>\n",
       "      <td>1865.814211</td>\n",
       "      <td>8759</td>\n",
       "    </tr>\n",
       "  </tbody>\n",
       "</table>\n",
       "<p>8760 rows × 15 columns</p>\n",
       "</div>"
      ],
      "text/plain": [
       "                    Date    Load    Coal     Gas  Hydro    Wind  Solar  \\\n",
       "0    2019-08-20 18:00:00  7473.0  3055.0  2839.0  119.0  1260.0  200.0   \n",
       "1    2019-08-06 18:00:00  7280.0  3097.0  3398.0  108.0   497.0  180.0   \n",
       "2    2019-08-20 17:00:00  7199.0  3062.0  2725.0  130.0   958.0  324.0   \n",
       "3    2019-08-06 17:00:00  7196.0  3079.0  3520.0   98.0   248.0  251.0   \n",
       "4    2019-08-06 19:00:00  7131.0  3119.0  2813.0  105.0  1016.0   78.0   \n",
       "...                  ...     ...     ...     ...    ...     ...    ...   \n",
       "8755 2019-04-06 16:00:00  2273.0  1364.0   479.0   83.0   133.0  214.0   \n",
       "8756 2019-04-08 02:00:00  2267.0  1122.0   253.0    0.0   892.0    0.0   \n",
       "8757 2019-05-14 04:00:00  2257.0  1690.0   472.0    0.0    95.0    0.0   \n",
       "8758 2019-04-08 03:00:00  2160.0  1125.0   249.0    0.0   785.0    1.0   \n",
       "8759 2019-04-08 04:00:00  2144.0  1125.0   253.0    0.0   766.0    0.0   \n",
       "\n",
       "      total_gen  load_equals_gen     vre  perc_vre  Wind_factored  \\\n",
       "0        7473.0             True  1460.0  0.195370    3069.093872   \n",
       "1        7280.0             True   677.0  0.092995    1210.587027   \n",
       "2        7199.0             True  1282.0  0.178080    2333.485658   \n",
       "3        7196.0             True   499.0  0.069344     604.075619   \n",
       "4        7131.0             True  1094.0  0.153415    2474.761408   \n",
       "...         ...              ...     ...       ...            ...   \n",
       "8755     2273.0             True   347.0  0.152662     323.959909   \n",
       "8756     2267.0             True   892.0  0.393472    2172.723598   \n",
       "8757     2257.0             True    95.0  0.042091     231.399935   \n",
       "8758     2160.0             True   786.0  0.363889    1912.094198   \n",
       "8759     2144.0             True   766.0  0.357276    1865.814211   \n",
       "\n",
       "      Solar_factored  vre_factored  index  \n",
       "0        3699.504950   6768.598823      0  \n",
       "1        3329.554455   4540.141483      1  \n",
       "2        5993.198020   8326.683678      2  \n",
       "3        4642.878713   5246.954332      3  \n",
       "4        1442.806931   3917.568339      4  \n",
       "...              ...           ...    ...  \n",
       "8755      214.000000    537.959909   8755  \n",
       "8756        0.000000   2172.723598   8756  \n",
       "8757        0.000000    231.399935   8757  \n",
       "8758       18.497525   1930.591723   8758  \n",
       "8759        0.000000   1865.814211   8759  \n",
       "\n",
       "[8760 rows x 15 columns]"
      ]
     },
     "execution_count": 56,
     "metadata": {},
     "output_type": "execute_result"
    }
   ],
   "source": [
    "vre_dc_df = interim_gen_df.sort_values(PERC_VRE_COLNAME, ascending=False).reset_index(drop=True)\n",
    "vre_dc_df['index'] = vre_dc_df.index.values\n",
    "\n",
    "vre_dc_factored_df = interim_gen_df\n",
    "\n",
    "fig = plt.figure()\n",
    "load_df_subplot_ax = fig.add_subplot(1, 1, 1)    \n",
    "    \n",
    "plt.plot(\n",
    "    'index', PERC_VRE_COLNAME, label=\"LDC\", data=ldc_df, linewidth=1,color=\"black\")\n",
    "#load_df_subplot_ax.xaxis.set_major_formatter(mdates.DateFormatter('%-m'))\n",
    "plt.ylabel(\"Load (MW)\", family='monospace' ,fontsize=\"xx-large\")\n",
    "plt.xlabel(\"Hour\", family='serif', fontsize=\"xx-large\")\n",
    "plt.xticks(fontsize=13, family='monospace', rotation = 15 ) # Rotate ticks. Doesn't look great, imo: rotation = 15, ha='right'\n",
    "plt.yticks(fontsize=13, family='monospace' )\n",
    "plt.ylim(ymin=0, ymax = 1)\n",
    "plt.title(\"% VRE Duration Curve\", family='serif', fontdict={\"fontweight\": \"bold\", \"size\": 20})\n",
    "plt.show()"
   ]
  },
  {
   "cell_type": "markdown",
   "id": "arabic-recipe",
   "metadata": {},
   "source": [
    "### Question 5\n",
    "Using the values in the Table from Problem 1, calculate the following (round to 2 decimal places):"
   ]
  },
  {
   "cell_type": "code",
   "execution_count": 59,
   "id": "detailed-wednesday",
   "metadata": {},
   "outputs": [
    {
     "name": "stdout",
     "output_type": "stream",
     "text": [
      "Peak Load / Peak Wind: 2.44\n",
      "Peak Load / Peak Solar: 18.5\n"
     ]
    }
   ],
   "source": [
    "wind_peak_ratio = interim_gen_df[LOAD_COLNAME].max() / interim_gen_df[WIND_COLNAME].max()\n",
    "solar_peak_ratio = interim_gen_df[LOAD_COLNAME].max() / interim_gen_df[SOLAR_COLNAME].max()\n",
    "print(\"Peak Load / Peak Wind: {}\".format(round(wind_peak_ratio, 2)))\n",
    "print(\"Peak Load / Peak Solar: {}\".format(round(solar_peak_ratio, 2)))"
   ]
  },
  {
   "cell_type": "code",
   "execution_count": 89,
   "id": "racial-edition",
   "metadata": {},
   "outputs": [],
   "source": [
    "WIND_FACTORED_COLNAME = f'{WIND_COLNAME}_factored'\n",
    "SOLAR_FACTORED_COLNAME = f'{SOLAR_COLNAME}_factored'\n",
    "VRE_FACTORED_COLNAME = f'{TOTAL_VRE_COLNAME}_factored'"
   ]
  },
  {
   "cell_type": "code",
   "execution_count": 90,
   "id": "optical-garden",
   "metadata": {},
   "outputs": [],
   "source": [
    "interim_gen_df[WIND_FACTORED_COLNAME] = interim_gen_df[WIND_COLNAME] * wind_peak_ratio\n",
    "interim_gen_df[SOLAR_FACTORED_COLNAME] = interim_gen_df[SOLAR_COLNAME] * solar_peak_ratio\n",
    "\n",
    "# interim_gen_df[WIND_FACTORED_COLNAME] = interim_gen_df.apply(\n",
    "#     lambda x: x[WIND_COLNAME] * wind_peak_ratio \n",
    "#         if x[WIND_COLNAME] * wind_peak_ratio < x[LOAD_COLNAME]\n",
    "#         else x[LOAD_COLNAME]\n",
    "#     , axis = 1\n",
    "# ) \n",
    "\n",
    "# interim_gen_df[SOLAR_FACTORED_COLNAME] = interim_gen_df.apply(\n",
    "#     lambda x: x[SOLAR_COLNAME] * solar_peak_ratio \n",
    "#         if x[SOLAR_COLNAME] * solar_peak_ratio < x[LOAD_COLNAME]\n",
    "#         else x[SOLAR_COLNAME]\n",
    "#     , axis = 1\n",
    "# ) \n",
    "\n",
    "interim_gen_df[VRE_FACTORED_COLNAME] = interim_gen_df[WIND_FACTORED_COLNAME] + interim_gen_df[SOLAR_FACTORED_COLNAME]"
   ]
  },
  {
   "cell_type": "code",
   "execution_count": 91,
   "id": "accepting-activation",
   "metadata": {},
   "outputs": [
    {
     "data": {
      "text/html": [
       "<div>\n",
       "<style scoped>\n",
       "    .dataframe tbody tr th:only-of-type {\n",
       "        vertical-align: middle;\n",
       "    }\n",
       "\n",
       "    .dataframe tbody tr th {\n",
       "        vertical-align: top;\n",
       "    }\n",
       "\n",
       "    .dataframe thead th {\n",
       "        text-align: right;\n",
       "    }\n",
       "</style>\n",
       "<table border=\"1\" class=\"dataframe\">\n",
       "  <thead>\n",
       "    <tr style=\"text-align: right;\">\n",
       "      <th></th>\n",
       "      <th>Date</th>\n",
       "      <th>Wind_factored</th>\n",
       "      <th>vre_factored</th>\n",
       "    </tr>\n",
       "  </thead>\n",
       "  <tbody>\n",
       "    <tr>\n",
       "      <th>0</th>\n",
       "      <td>2019-01-01 00:00:00</td>\n",
       "      <td>3480.742177</td>\n",
       "      <td>3480.742177</td>\n",
       "    </tr>\n",
       "    <tr>\n",
       "      <th>1</th>\n",
       "      <td>2019-01-01 01:00:00</td>\n",
       "      <td>2586.807692</td>\n",
       "      <td>2586.807692</td>\n",
       "    </tr>\n",
       "    <tr>\n",
       "      <th>2</th>\n",
       "      <td>2019-01-01 02:00:00</td>\n",
       "      <td>1919.401565</td>\n",
       "      <td>1919.401565</td>\n",
       "    </tr>\n",
       "    <tr>\n",
       "      <th>3</th>\n",
       "      <td>2019-01-01 03:00:00</td>\n",
       "      <td>1561.340613</td>\n",
       "      <td>1561.340613</td>\n",
       "    </tr>\n",
       "    <tr>\n",
       "      <th>4</th>\n",
       "      <td>2019-01-01 04:00:00</td>\n",
       "      <td>1066.875489</td>\n",
       "      <td>1066.875489</td>\n",
       "    </tr>\n",
       "    <tr>\n",
       "      <th>...</th>\n",
       "      <td>...</td>\n",
       "      <td>...</td>\n",
       "      <td>...</td>\n",
       "    </tr>\n",
       "    <tr>\n",
       "      <th>8755</th>\n",
       "      <td>2019-12-31 19:00:00</td>\n",
       "      <td>4140.840939</td>\n",
       "      <td>4140.840939</td>\n",
       "    </tr>\n",
       "    <tr>\n",
       "      <th>8756</th>\n",
       "      <td>2019-12-31 20:00:00</td>\n",
       "      <td>5025.032269</td>\n",
       "      <td>5025.032269</td>\n",
       "    </tr>\n",
       "    <tr>\n",
       "      <th>8757</th>\n",
       "      <td>2019-12-31 21:00:00</td>\n",
       "      <td>4993.367014</td>\n",
       "      <td>4993.367014</td>\n",
       "    </tr>\n",
       "    <tr>\n",
       "      <th>8758</th>\n",
       "      <td>2019-12-31 22:00:00</td>\n",
       "      <td>4257.758801</td>\n",
       "      <td>4257.758801</td>\n",
       "    </tr>\n",
       "    <tr>\n",
       "      <th>8759</th>\n",
       "      <td>2019-12-31 23:00:00</td>\n",
       "      <td>3629.325293</td>\n",
       "      <td>3629.325293</td>\n",
       "    </tr>\n",
       "  </tbody>\n",
       "</table>\n",
       "<p>8760 rows × 3 columns</p>\n",
       "</div>"
      ],
      "text/plain": [
       "                    Date  Wind_factored  vre_factored\n",
       "0    2019-01-01 00:00:00    3480.742177   3480.742177\n",
       "1    2019-01-01 01:00:00    2586.807692   2586.807692\n",
       "2    2019-01-01 02:00:00    1919.401565   1919.401565\n",
       "3    2019-01-01 03:00:00    1561.340613   1561.340613\n",
       "4    2019-01-01 04:00:00    1066.875489   1066.875489\n",
       "...                  ...            ...           ...\n",
       "8755 2019-12-31 19:00:00    4140.840939   4140.840939\n",
       "8756 2019-12-31 20:00:00    5025.032269   5025.032269\n",
       "8757 2019-12-31 21:00:00    4993.367014   4993.367014\n",
       "8758 2019-12-31 22:00:00    4257.758801   4257.758801\n",
       "8759 2019-12-31 23:00:00    3629.325293   3629.325293\n",
       "\n",
       "[8760 rows x 3 columns]"
      ]
     },
     "execution_count": 91,
     "metadata": {},
     "output_type": "execute_result"
    }
   ],
   "source": [
    "interim_gen_df[[DATETIME_COLNAME, WIND_FACTORED_COLNAME, VRE_FACTORED_COLNAME]]"
   ]
  },
  {
   "cell_type": "markdown",
   "id": "addressed-malaysia",
   "metadata": {},
   "source": [
    "### Question 7\n",
    "What is the annual total MWh produced from wind and solar at these new values?\n",
    "And what percent of the total annual load do they cover?"
   ]
  },
  {
   "cell_type": "code",
   "execution_count": 68,
   "id": "missing-luther",
   "metadata": {},
   "outputs": [
    {
     "data": {
      "text/plain": [
       "'36,427,838.44'"
      ]
     },
     "execution_count": 68,
     "metadata": {},
     "output_type": "execute_result"
    }
   ],
   "source": [
    "format_large_num(round(interim_gen_df[VRE_FACTORED_COLNAME].sum(), 2))"
   ]
  },
  {
   "cell_type": "code",
   "execution_count": 69,
   "id": "personal-customer",
   "metadata": {},
   "outputs": [
    {
     "data": {
      "text/plain": [
       "0.9761890976704988"
      ]
     },
     "execution_count": 69,
     "metadata": {},
     "output_type": "execute_result"
    }
   ],
   "source": [
    "interim_gen_df[VRE_FACTORED_COLNAME].sum() / interim_gen_df[LOAD_COLNAME].sum()"
   ]
  },
  {
   "cell_type": "code",
   "execution_count": 70,
   "id": "analyzed-construction",
   "metadata": {},
   "outputs": [
    {
     "data": {
      "text/plain": [
       "3626"
      ]
     },
     "execution_count": 70,
     "metadata": {},
     "output_type": "execute_result"
    }
   ],
   "source": [
    "len(interim_gen_df[interim_gen_df[VRE_FACTORED_COLNAME] > interim_gen_df[LOAD_COLNAME]])"
   ]
  },
  {
   "cell_type": "markdown",
   "id": "ultimate-skill",
   "metadata": {},
   "source": [
    "### Question 8 \n",
    "Resort the data from high to low creating a new % VRE duration curve and graph on top of the curve in Item #4"
   ]
  },
  {
   "cell_type": "code",
   "execution_count": 76,
   "id": "liable-flooring",
   "metadata": {},
   "outputs": [],
   "source": [
    "vre_dc_df = interim_gen_df.sort_values(PERC_VRE_COLNAME, ascending=False).reset_index(drop=True)\n",
    "vre_dc_df['index'] = vre_dc_df.index.values\n",
    "\n",
    "PERC_VRE_FACTORED_COLNAME = f'{PERC_VRE_COLNAME}_factored'\n",
    "interim_gen_df[PERC_VRE_FACTORED_COLNAME] = interim_gen_df[VRE_FACTORED_COLNAME] / interim_gen_df[LOAD_COLNAME]\n",
    "vre_dc_factored_df = interim_gen_df.sort_values(PERC_VRE_FACTORED_COLNAME, ascending=False).reset_index(drop=True)\n",
    "vre_dc_factored_df['index'] = vre_dc_factored_df.index.values"
   ]
  },
  {
   "cell_type": "code",
   "execution_count": 81,
   "id": "rolled-cinema",
   "metadata": {},
   "outputs": [
    {
     "data": {
      "image/png": "[encoded data removed]",
      "text/plain": [
       "<Figure size 1296x432 with 1 Axes>"
      ]
     },
     "metadata": {},
     "output_type": "display_data"
    }
   ],
   "source": [
    "fig = plt.figure()\n",
    "vre_perc_dc_subplot_ax = fig.add_subplot(1, 1, 1)    \n",
    "    \n",
    "plt.plot(\n",
    "    'index', PERC_VRE_COLNAME, label=\"% VRE\", data=vre_dc_df, linewidth=1,color=\"black\"\n",
    ")\n",
    "\n",
    "plt.plot(\n",
    "    'index', PERC_VRE_FACTORED_COLNAME, label=\"% VRE (Factored)\", data=vre_dc_factored_df, linewidth=1,color=\"black\"\n",
    ")\n",
    "#load_df_subplot_ax.xaxis.set_major_formatter(mdates.DateFormatter('%-m'))\n",
    "plt.ylabel(\"Load (MW)\", family='monospace' ,fontsize=\"xx-large\")\n",
    "plt.xlabel(\"Hour\", family='serif', fontsize=\"xx-large\")\n",
    "plt.xticks(fontsize=13, family='monospace', rotation = 15 ) # Rotate ticks. Doesn't look great, imo: rotation = 15, ha='right'\n",
    "plt.yticks(fontsize=13, family='monospace' )\n",
    "plt.ylim(ymin=0, ymax = 4)\n",
    "plt.title(\"% VRE Duration Curve\", family='serif', fontdict={\"fontweight\": \"bold\", \"size\": 20})\n",
    "plt.show()"
   ]
  },
  {
   "cell_type": "markdown",
   "id": "three-ethnic",
   "metadata": {},
   "source": [
    "### Question 9\n",
    "How many hours during the year was the % VRE = 0?"
   ]
  },
  {
   "cell_type": "code",
   "execution_count": 82,
   "id": "compliant-salvation",
   "metadata": {},
   "outputs": [
    {
     "data": {
      "text/plain": [
       "12"
      ]
     },
     "execution_count": 82,
     "metadata": {},
     "output_type": "execute_result"
    }
   ],
   "source": [
    "len(interim_gen_df[interim_gen_df[TOTAL_VRE_COLNAME] == 0])"
   ]
  },
  {
   "cell_type": "markdown",
   "id": "assisted-cambridge",
   "metadata": {},
   "source": [
    "### Question 10\n",
    "Determine the general amount of land per MW required by a wind and solar plant.  Calculate the total land use based on the new peak generation for wind and solar that was multiplied by the increase factor. This would give you the land requirements for installing that amount of wind and solar."
   ]
  },
  {
   "cell_type": "code",
   "execution_count": 86,
   "id": "aboriginal-activity",
   "metadata": {},
   "outputs": [
    {
     "data": {
      "text/plain": [
       "151.2109239"
      ]
     },
     "execution_count": 86,
     "metadata": {},
     "output_type": "execute_result"
    }
   ],
   "source": [
    "wind_km2_per_mw = 0.25\n",
    "solar_km2_per_mw = 0.0202343\n",
    "\n",
    "interim_gen_df[SOLAR_FACTORED_COLNAME].max() * solar_km2_per_mw"
   ]
  },
  {
   "cell_type": "code",
   "execution_count": 94,
   "id": "valuable-performer",
   "metadata": {},
   "outputs": [
    {
     "data": {
      "text/plain": [
       "1868.25"
      ]
     },
     "execution_count": 94,
     "metadata": {},
     "output_type": "execute_result"
    }
   ],
   "source": [
    "interim_gen_df[WIND_FACTORED_COLNAME].max() * wind_km2_per_mw"
   ]
  },
  {
   "cell_type": "markdown",
   "id": "polish-cooperative",
   "metadata": {},
   "source": [
    "### Question 12\n",
    "What percent of the land area of Colorado is needed for the solar and wind?"
   ]
  },
  {
   "cell_type": "code",
   "execution_count": 99,
   "id": "listed-spank",
   "metadata": {},
   "outputs": [
    {
     "name": "stdout",
     "output_type": "stream",
     "text": [
      "% land of CO needed to meet peak solar (factored): 0.0005603766848998288\n",
      "% land of CO needed to meet peak wind (factored): 0.006923598603606609\n"
     ]
    }
   ],
   "source": [
    "CO_LAND_AREA_KM2 = 269838\n",
    "\n",
    "print(\"% land of CO needed to meet peak solar (factored): {}\".format(\n",
    "    (interim_gen_df[SOLAR_FACTORED_COLNAME].max() * solar_km2_per_mw) / CO_LAND_AREA_KM2)\n",
    ")\n",
    "\n",
    "print(\"% land of CO needed to meet peak wind (factored): {}\".format(\n",
    "    (interim_gen_df[WIND_FACTORED_COLNAME].max() * wind_km2_per_mw) / CO_LAND_AREA_KM2)\n",
    ")"
   ]
  },
  {
   "cell_type": "code",
   "execution_count": null,
   "id": "planned-communications",
   "metadata": {},
   "outputs": [],
   "source": []
  }
 ],
 "metadata": {
  "kernelspec": {
   "display_name": "Python 3",
   "language": "python",
   "name": "python3"
  },
  "language_info": {
   "codemirror_mode": {
    "name": "ipython",
    "version": 3
   },
   "file_extension": ".py",
   "mimetype": "text/x-python",
   "name": "python",
   "nbconvert_exporter": "python",
   "pygments_lexer": "ipython3",
   "version": "3.9.1"
  }
 },
 "nbformat": 4,
 "nbformat_minor": 5
}
